{
 "cells": [
  {
   "cell_type": "code",
   "execution_count": 5,
   "metadata": {},
   "outputs": [],
   "source": [
    "import pandas as pd\n",
    "from konlpy.tag import Okt\n"
   ]
  },
  {
   "cell_type": "code",
   "execution_count": 77,
   "metadata": {},
   "outputs": [
    {
     "data": {
      "text/html": [
       "<div>\n",
       "<style scoped>\n",
       "    .dataframe tbody tr th:only-of-type {\n",
       "        vertical-align: middle;\n",
       "    }\n",
       "\n",
       "    .dataframe tbody tr th {\n",
       "        vertical-align: top;\n",
       "    }\n",
       "\n",
       "    .dataframe thead th {\n",
       "        text-align: right;\n",
       "    }\n",
       "</style>\n",
       "<table border=\"1\" class=\"dataframe\">\n",
       "  <thead>\n",
       "    <tr style=\"text-align: right;\">\n",
       "      <th></th>\n",
       "      <th>product</th>\n",
       "      <th>category</th>\n",
       "      <th>info</th>\n",
       "      <th>cleaned_info</th>\n",
       "    </tr>\n",
       "  </thead>\n",
       "  <tbody>\n",
       "    <tr>\n",
       "      <th>0</th>\n",
       "      <td>Looi</td>\n",
       "      <td>['헬스케어', '생산성', '라이프스타일']</td>\n",
       "      <td>서비스 동기 바쁘게 살아가는 20 30대 분들이 사회 안에서 외적인 일과 자기 자신...</td>\n",
       "      <td>['서비스', '동기', '바쁘다', '살아가다', '20', '30', '대다',...</td>\n",
       "    </tr>\n",
       "    <tr>\n",
       "      <th>1</th>\n",
       "      <td>Openroleplay.ai</td>\n",
       "      <td>['인공지능', '플랫폼']</td>\n",
       "      <td>Openroleplay ai ORP는 오픈소스 롤플레잉 AI 캐릭터 플랫폼입니다 모...</td>\n",
       "      <td>['openroleplay', 'ai', 'orp', '늘다', '오픈소스', '롤...</td>\n",
       "    </tr>\n",
       "    <tr>\n",
       "      <th>2</th>\n",
       "      <td>PosturePod</td>\n",
       "      <td>['디자인', '생산성', '개발']</td>\n",
       "      <td>에어팟의 모션 센서를 활용하여 좋은 자세와 나쁜 자세를 등록하면 나쁜 자세가 유지될...</td>\n",
       "      <td>['에어팟', '모션', '센서', '활용', '하다', '좋다', '자세', '나...</td>\n",
       "    </tr>\n",
       "    <tr>\n",
       "      <th>3</th>\n",
       "      <td>스티브잡스와의 대화</td>\n",
       "      <td>['인공지능']</td>\n",
       "      <td>많은 사람들이 스티브 잡스의 생각과 이야기에서 영감을 받길 바라며 이 앱을 만들었습...</td>\n",
       "      <td>['많다', '사람', '스티브', '잡스', '생각', '이야기', '영감', '...</td>\n",
       "    </tr>\n",
       "    <tr>\n",
       "      <th>4</th>\n",
       "      <td>머니슬립</td>\n",
       "      <td>['헬스케어', '금융']</td>\n",
       "      <td>머니슬립은 잠만 자도 포인트를 쌓을 수 있는 새로운 스타일의 리워드 앱입니다 그렇게...</td>\n",
       "      <td>['멀다', '슬립', '자도', '포인트', '쌓다', '새롭다', '스타일', ...</td>\n",
       "    </tr>\n",
       "    <tr>\n",
       "      <th>...</th>\n",
       "      <td>...</td>\n",
       "      <td>...</td>\n",
       "      <td>...</td>\n",
       "      <td>...</td>\n",
       "    </tr>\n",
       "    <tr>\n",
       "      <th>4690</th>\n",
       "      <td>매치스플랜</td>\n",
       "      <td>IT &gt; 소프트웨어/앱/웹 &gt; 웹,\\n교육 &gt; 자기개발 &gt; 디자인,\\n내부사업/운영...</td>\n",
       "      <td>인하우스 디자이너를 완벽하게 대체하는 플랫폼 '디자이너 하이어'를 운영하는 회사 입...</td>\n",
       "      <td>['인하', '우스', '디자이너', '완벽하다', '대체', '하다', '플랫폼'...</td>\n",
       "    </tr>\n",
       "    <tr>\n",
       "      <th>4691</th>\n",
       "      <td>플레져</td>\n",
       "      <td>IT &gt; 소프트웨어/앱/웹 &gt; 앱,\\nIT &gt; 솔루션/SaaS/보안 &gt; SaaS,\\...</td>\n",
       "      <td>플레져는 테니스 버티컬 플랫폼 서비스 &amp; SaaS를 제공하고 있습니다. 자동화를 통...</td>\n",
       "      <td>['플레져', '테니스', '버티다', '플랫폼', '서비스', 'saas', '제...</td>\n",
       "    </tr>\n",
       "    <tr>\n",
       "      <th>4692</th>\n",
       "      <td>주식회사 아워플랫폼</td>\n",
       "      <td>IT &gt; 소프트웨어/앱/웹 &gt; 소프트웨어,\\nIT &gt; 소프트웨어/앱/웹 &gt; 앱,\\n...</td>\n",
       "      <td>안녕하세요 주식회사 아워플랫폼입니다. 즐거운 물생활 플랫폼 '우리동네 수족관'을 개...</td>\n",
       "      <td>['안녕하다', '주식회사', '플랫폼', '즐겁다', '생활', '플랫폼', '우...</td>\n",
       "    </tr>\n",
       "    <tr>\n",
       "      <th>4693</th>\n",
       "      <td>(주)시에라베이스</td>\n",
       "      <td>IT &gt; 소프트웨어/앱/웹 &gt; 소프트웨어,\\nIT &gt; 솔루션/SaaS/보안 &gt; 솔루...</td>\n",
       "      <td>로봇 자율주행 기술 및 인공지능 안전관리 자동화 시스템을 통해 시설물 안전점검, 모...</td>\n",
       "      <td>['로봇', '자율', '주행', '기술', '인공', '지능', '안전', '관리...</td>\n",
       "    </tr>\n",
       "    <tr>\n",
       "      <th>4694</th>\n",
       "      <td>주식회사 엔퓨</td>\n",
       "      <td>IT &gt; 소프트웨어/앱/웹 &gt; 앱,\\nIT &gt; 플랫폼/메타버스 &gt; 메타버스,\\nIT...</td>\n",
       "      <td>주식회사 엔퓨의 키워드 5가지 : \"캐릭터\", \"웹3.0\", \"ESG\", \"소셜임팩...</td>\n",
       "      <td>['주식회사', '엔퓨', '워드', '가지', '캐릭터', '30', 'esg',...</td>\n",
       "    </tr>\n",
       "  </tbody>\n",
       "</table>\n",
       "<p>4695 rows × 4 columns</p>\n",
       "</div>"
      ],
      "text/plain": [
       "              product                                           category  \\\n",
       "0                Looi                          ['헬스케어', '생산성', '라이프스타일']   \n",
       "1     Openroleplay.ai                                    ['인공지능', '플랫폼']   \n",
       "2          PosturePod                               ['디자인', '생산성', '개발']   \n",
       "3          스티브잡스와의 대화                                           ['인공지능']   \n",
       "4                머니슬립                                     ['헬스케어', '금융']   \n",
       "...               ...                                                ...   \n",
       "4690            매치스플랜  IT > 소프트웨어/앱/웹 > 웹,\\n교육 > 자기개발 > 디자인,\\n내부사업/운영...   \n",
       "4691              플레져  IT > 소프트웨어/앱/웹 > 앱,\\nIT > 솔루션/SaaS/보안 > SaaS,\\...   \n",
       "4692       주식회사 아워플랫폼  IT > 소프트웨어/앱/웹 > 소프트웨어,\\nIT > 소프트웨어/앱/웹 > 앱,\\n...   \n",
       "4693        (주)시에라베이스  IT > 소프트웨어/앱/웹 > 소프트웨어,\\nIT > 솔루션/SaaS/보안 > 솔루...   \n",
       "4694          주식회사 엔퓨  IT > 소프트웨어/앱/웹 > 앱,\\nIT > 플랫폼/메타버스 > 메타버스,\\nIT...   \n",
       "\n",
       "                                                   info  \\\n",
       "0     서비스 동기 바쁘게 살아가는 20 30대 분들이 사회 안에서 외적인 일과 자기 자신...   \n",
       "1     Openroleplay ai ORP는 오픈소스 롤플레잉 AI 캐릭터 플랫폼입니다 모...   \n",
       "2     에어팟의 모션 센서를 활용하여 좋은 자세와 나쁜 자세를 등록하면 나쁜 자세가 유지될...   \n",
       "3     많은 사람들이 스티브 잡스의 생각과 이야기에서 영감을 받길 바라며 이 앱을 만들었습...   \n",
       "4     머니슬립은 잠만 자도 포인트를 쌓을 수 있는 새로운 스타일의 리워드 앱입니다 그렇게...   \n",
       "...                                                 ...   \n",
       "4690  인하우스 디자이너를 완벽하게 대체하는 플랫폼 '디자이너 하이어'를 운영하는 회사 입...   \n",
       "4691  플레져는 테니스 버티컬 플랫폼 서비스 & SaaS를 제공하고 있습니다. 자동화를 통...   \n",
       "4692  안녕하세요 주식회사 아워플랫폼입니다. 즐거운 물생활 플랫폼 '우리동네 수족관'을 개...   \n",
       "4693  로봇 자율주행 기술 및 인공지능 안전관리 자동화 시스템을 통해 시설물 안전점검, 모...   \n",
       "4694  주식회사 엔퓨의 키워드 5가지 : \"캐릭터\", \"웹3.0\", \"ESG\", \"소셜임팩...   \n",
       "\n",
       "                                           cleaned_info  \n",
       "0     ['서비스', '동기', '바쁘다', '살아가다', '20', '30', '대다',...  \n",
       "1     ['openroleplay', 'ai', 'orp', '늘다', '오픈소스', '롤...  \n",
       "2     ['에어팟', '모션', '센서', '활용', '하다', '좋다', '자세', '나...  \n",
       "3     ['많다', '사람', '스티브', '잡스', '생각', '이야기', '영감', '...  \n",
       "4     ['멀다', '슬립', '자도', '포인트', '쌓다', '새롭다', '스타일', ...  \n",
       "...                                                 ...  \n",
       "4690  ['인하', '우스', '디자이너', '완벽하다', '대체', '하다', '플랫폼'...  \n",
       "4691  ['플레져', '테니스', '버티다', '플랫폼', '서비스', 'saas', '제...  \n",
       "4692  ['안녕하다', '주식회사', '플랫폼', '즐겁다', '생활', '플랫폼', '우...  \n",
       "4693  ['로봇', '자율', '주행', '기술', '인공', '지능', '안전', '관리...  \n",
       "4694  ['주식회사', '엔퓨', '워드', '가지', '캐릭터', '30', 'esg',...  \n",
       "\n",
       "[4695 rows x 4 columns]"
      ]
     },
     "execution_count": 77,
     "metadata": {},
     "output_type": "execute_result"
    }
   ],
   "source": [
    "# product.csv 파일 불러오기\n",
    "product_df = pd.read_csv('merged_file.csv', encoding='utf-8')\n",
    "product_df\n"
   ]
  },
  {
   "cell_type": "code",
   "execution_count": 63,
   "metadata": {},
   "outputs": [
    {
     "data": {
      "text/plain": [
       "product         0\n",
       "category        0\n",
       "info            0\n",
       "cleaned_info    0\n",
       "cleaned_c       0\n",
       "dtype: int64"
      ]
     },
     "execution_count": 63,
     "metadata": {},
     "output_type": "execute_result"
    }
   ],
   "source": [
    "product_df.isnull().sum()"
   ]
  },
  {
   "cell_type": "code",
   "execution_count": 46,
   "metadata": {},
   "outputs": [],
   "source": [
    "product_df.dropna(inplace=True)"
   ]
  },
  {
   "cell_type": "code",
   "execution_count": 47,
   "metadata": {},
   "outputs": [
    {
     "data": {
      "text/plain": [
       "info        0\n",
       "category    0\n",
       "product     0\n",
       "dtype: int64"
      ]
     },
     "execution_count": 47,
     "metadata": {},
     "output_type": "execute_result"
    }
   ],
   "source": [
    "product_df.isnull().sum()"
   ]
  },
  {
   "cell_type": "code",
   "execution_count": 49,
   "metadata": {},
   "outputs": [],
   "source": [
    "from konlpy.tag import Okt\n",
    "import re\n",
    "\n",
    "# Okt 객체 생성\n",
    "okt = Okt()\n",
    "\n",
    "# Okt를 사용한 토큰화 함수\n",
    "def okt_tokenize(text):\n",
    "    text = text.lower()\n",
    "    text = re.sub(r'[^가-힣a-zA-Z0-9\\s]', '', text)\n",
    "    tokens = okt.morphs(text, stem=True)\n",
    "    return tokens\n"
   ]
  },
  {
   "cell_type": "code",
   "execution_count": 50,
   "metadata": {},
   "outputs": [],
   "source": [
    "# 텍스트에서 줄바꿈 문자를 제거하는 함수\n",
    "def remove_newlines(text):\n",
    "    # 줄바꿈 문자를 공백으로 대체\n",
    "    cleaned_text = re.sub(r'\\n+', ' ', text)\n",
    "    return cleaned_text\n",
    "\n",
    "# 텍스트 처리 전에 줄바꿈 문자 제거 적용\n",
    "product_df['info'] = product_df['info'].apply(remove_newlines)\n"
   ]
  },
  {
   "cell_type": "code",
   "execution_count": 51,
   "metadata": {},
   "outputs": [],
   "source": [
    "# Okt 토큰화 적용\n",
    "product_df['tokenized_info'] = product_df['info'].apply(okt_tokenize)"
   ]
  },
  {
   "cell_type": "code",
   "execution_count": 52,
   "metadata": {},
   "outputs": [
    {
     "data": {
      "text/plain": [
       "0    [폐, 유지, 폐, 식용유, 동물성, 기름, 매칭, 수거, 리, 사이클, 경매, 플...\n",
       "1    [데이터, 기반, 자전거, 모바일, 서비스, veloo, 자전거, 등록, 서비스, ...\n",
       "2    [안녕하다, 차, 를, 가장, 쉬다, 알다, 플랫폼, 을, 만들다, 팀, 이지, 이...\n",
       "3    [글로벌, 시장, 경쟁, 신규, 사업, 조직, 산업, 등, 조사, 전문, 기업, 글...\n",
       "4    [자연, 을, 사랑, 하다, 마음, 으로, 모든, 기업, 에서, 순수하다, 강조, ...\n",
       "Name: tokenized_info, dtype: object"
      ]
     },
     "execution_count": 52,
     "metadata": {},
     "output_type": "execute_result"
    }
   ],
   "source": [
    "product_df['tokenized_info'].head()"
   ]
  },
  {
   "cell_type": "code",
   "execution_count": 53,
   "metadata": {},
   "outputs": [],
   "source": [
    "# 불용어 파일을 읽고 줄바꿈 문자를 제거하여 리스트로 저장합니다.\n",
    "with open('한국어불용어.txt', 'r', encoding='utf-8') as file:\n",
    "    stopwords = [line.strip() for line in file]\n",
    "\n",
    "# 불용어 제거 및 한 글자 단어 제거 함수\n",
    "def remove_stopwords_and_single_chars(tokens):\n",
    "    return [token for token in tokens if token not in stopwords and len(token) > 1]\n",
    "\n",
    "# 불용어 및 한 글자 단어 제거 적용\n",
    "product_df['cleaned_info'] = product_df['tokenized_info'].apply(remove_stopwords_and_single_chars)\n",
    "\n"
   ]
  },
  {
   "cell_type": "code",
   "execution_count": 54,
   "metadata": {},
   "outputs": [
    {
     "data": {
      "text/plain": [
       "0     [유지, 식용유, 동물성, 기름, 매칭, 수거, 사이클, 경매, 플랫폼, 전국, 5...\n",
       "1     [데이터, 기반, 자전거, 모바일, 서비스, veloo, 자전거, 등록, 서비스, ...\n",
       "2     [안녕하다, 가장, 쉬다, 알다, 플랫폼, 만들다, 이지, 에도, 에도, 궁금하다,...\n",
       "3     [글로벌, 시장, 경쟁, 신규, 사업, 조직, 산업, 조사, 전문, 기업, 글로벌,...\n",
       "4     [자연, 사랑, 하다, 마음, 모든, 기업, 순수하다, 강조, 하다, 현재, 한국,...\n",
       "5     [프랜차이즈, 전문, 자동, 재고, 관리, 솔루션, 미리, 제공, 하다, 니즈, 외...\n",
       "6     [인공, 지능, 농업, 로봇, 고고, 파다, 고고, 파다, 즐겁다, 농사, 하다, ...\n",
       "7     [수자원, 분야, ict, 기술, 적용, 하다, 데이터, 비용, 효율, 수집, 하고...\n",
       "8     [커프, weekerp, 커스터, 마이, 가능하다, erp, saas, 커스터, 마...\n",
       "9     [디지털, 후각, 기술, 바탕, 개인, 맞춤, 공간, 맞춤, 디지털, 향기, 솔루션...\n",
       "10    [데이터, 인공, 지능, ai, 테크, 기술, 기반, saas, 구독, 서비스, 제...\n",
       "11    [히어로, 웍스, 호스, 산업, 리뷰, 관리, 시스템, 리비, revie, 오다, ...\n",
       "12    [기업, 성장하다, 플랫폼, 정보, 제공, 거래, 중개, 협업, 중소기업, 구매, ...\n",
       "13    [슬레, 지다, 패션, 브랜드, 보스트핏, 운영, 흔하다, 인바디, 알려지다, 체성...\n",
       "14    [deepnatural, 기업, 제품, 기술, 서비스, 언어, 능력, 더하다, ad...\n",
       "15    [인공, 지능, 수학, 지식, 통한, 개인, 결손, 지점, 추적, 보강, 학습, 커...\n",
       "16    [자연어, 처리, 라벨, 분류, ai, 기반, 상담, 능력, 진단, 평가, 교육, ...\n",
       "17    [나비, 플랫폼, 자원, 순환, 통해, 지속, 가능하다, 사회, 구현, 하다, 하다...\n",
       "18    [걸음, 걸음, 세상, 바꾸다, 위해, 노력, 하다, 기업, adisa, 늘다, a...\n",
       "19    [일상, 바꾸다, 전기차, 충전, 경험, 플러그, 링크, 만듭니, 플러그, 링크, ...\n",
       "Name: cleaned_info, dtype: object"
      ]
     },
     "execution_count": 54,
     "metadata": {},
     "output_type": "execute_result"
    }
   ],
   "source": [
    "product_df['cleaned_info'].head(20)"
   ]
  },
  {
   "cell_type": "code",
   "execution_count": 81,
   "metadata": {},
   "outputs": [],
   "source": [
    "# 불용어 리스트\n",
    "stopwords = [\"기타\"]\n",
    "\n",
    "# Function to clean and split the category column\n",
    "def clean_and_split(category):\n",
    "    # Use regular expression to remove special characters and split by spaces\n",
    "    parts = re.findall('[가-힣a-zA-Z0-9&]+', category)\n",
    "    \n",
    "    # 불용어 제거\n",
    "    parts = [word for word in parts if word not in stopwords]\n",
    "    \n",
    "    return ', '.join(set(parts))\n",
    "\n",
    "# Apply the function to each row in the 'category' column and create 'cleaned_cat' column\n",
    "product_df['cleaned_cat'] = product_df['category'].apply(clean_and_split)"
   ]
  },
  {
   "cell_type": "code",
   "execution_count": 79,
   "metadata": {},
   "outputs": [
    {
     "data": {
      "text/plain": [
       "4675    암호화폐, 블록체인, 소프트웨어, 개인자산관리, 부동산, 금융, 기타, 앱, IT,...\n",
       "4676    메타버스, 소프트웨어, 커뮤니티, 데이터, 쇼핑, 네트워킹, 기타, 앱, IT, 라...\n",
       "4677    클라우드, 교육, 소프트웨어, 초중고교육, 초등학교, 데이터, API, 기타, 앱,...\n",
       "4678    메타버스, 블록체인, 소프트웨어, 대체불가능토큰, 기타, 앱, NFT, IT, 웹,...\n",
       "4679    소프트웨어, 커뮤니티, 데이터, 네트워킹, 기타, 앱, IT, 라이프스타일, 웹, ...\n",
       "4680    솔루션, 보안, 소프트웨어, 데이터, API, SaaS, 기타, 앱, AI, IT,...\n",
       "4681    엔터테인먼트, 콘텐츠제작, 소프트웨어, 커뮤니티, 데이터, 네트워킹, 기타, 앱, ...\n",
       "4682    앱, 클라우드관리서비스, AI, CDN, 기타, MSP, 사물인터넷, IT, 솔루션...\n",
       "4683    데이터, 앱, 데이터마이닝, IT, 빅데이터, 증강현실, 소프트웨어, XR, API...\n",
       "4684    자동차, 메타버스, 소프트웨어, 데이터, API, 앱, AI, 모빌리티, 빅데이터,...\n",
       "4685    데이터, 앱, 웹, AI, 사물지능, AIoT, 협업, CDN, 부동산, OCR, ...\n",
       "4686    데이터, 앱, AI, 사물지능, AIoT, 우주, 사물인터넷, IT, 빅데이터, 방...\n",
       "4687    메타버스, 소프트웨어, 데이터, API, 기타, 앱, AI, 빅데이터, IT, 웹,...\n",
       "4688    데이터, 앱, 미디어, 클라우드관리서비스, 사물지능, 데이터마이닝, AIoT, 하이...\n",
       "4689    데이터, 앱, AI, 네트워킹, IT, 빅데이터, SNS, 솔루션, 보안, 소프트웨...\n",
       "4690    운영관리, 협업, 교육, 소프트웨어, 디자인, 기타, 앱, AI, 커뮤니케이션, I...\n",
       "4691    데이터, 앱, 미디어, AI, 데이터마이닝, IT, NLP, 빅데이터, 솔루션, 보...\n",
       "4692    클라우드, 메타버스, 소프트웨어, 데이터, API, 하이브리드, 앱, 반려동물, I...\n",
       "4693    솔루션, 보안, 메타버스, 소프트웨어, SaaS, 로보틱스, 앱, AI, 로봇, I...\n",
       "4694    임팩트, 대체불가능토큰, 앱, 미디어, AI, 제조, 블록체인, 기타, IT, 엔터...\n",
       "Name: cleaned_cat, dtype: object"
      ]
     },
     "execution_count": 79,
     "metadata": {},
     "output_type": "execute_result"
    }
   ],
   "source": [
    "product_df['cleaned_cat'].tail(20)"
   ]
  },
  {
   "cell_type": "code",
   "execution_count": 66,
   "metadata": {},
   "outputs": [],
   "source": [
    "# cleaned_cat 열에서 마지막 두 요소만 추출하는 함수\n",
    "def extract_last_two_categories(category):\n",
    "    parts = category.split(', ')  # 쉼표와 공백으로 분할\n",
    "    if len(parts) >= 2:\n",
    "        return ', '.join(parts[-3:])  # 마지막 두 부분만 추출하여 결합\n",
    "    else:\n",
    "        return category  # 두 개 미만의 요소가 있는 경우 원래의 카테고리 반환\n",
    "\n",
    "# 새로운 열에 마지막 두 카테고리 정보 저장\n",
    "product_df['cleaned_c'] = product_df['cleaned_cat'].apply(extract_last_two_categories)\n"
   ]
  },
  {
   "cell_type": "code",
   "execution_count": 67,
   "metadata": {},
   "outputs": [
    {
     "data": {
      "text/plain": [
       "0       라이프스타일, 헬스케어, 생산성\n",
       "1               인공지능, 플랫폼\n",
       "2            디자인, 생산성, 개발\n",
       "3                    인공지능\n",
       "4                헬스케어, 금융\n",
       "              ...        \n",
       "4690     자기개발, 머신러닝, 내부사업\n",
       "4691      라이프스타일, 웹, 머신러닝\n",
       "4692         웹, 빅데이터, 플랫폼\n",
       "4693       딥러닝, 머신러닝, 플랫폼\n",
       "4694           NFT, 관리, 웹\n",
       "Name: cleaned_c, Length: 4695, dtype: object"
      ]
     },
     "execution_count": 67,
     "metadata": {},
     "output_type": "execute_result"
    }
   ],
   "source": [
    "product_df['cleaned_c'].head(20000)"
   ]
  },
  {
   "cell_type": "code",
   "execution_count": 82,
   "metadata": {},
   "outputs": [],
   "source": [
    "product_df.to_csv('merged_file.csv', index=False)"
   ]
  },
  {
   "cell_type": "code",
   "execution_count": null,
   "metadata": {},
   "outputs": [],
   "source": [
    "# delete unnecessary cols and rows\n",
    "# product_df.drop(['Unnamed: 3', 'Unnamed: 4','tokenized_info','categories'], axis=1)"
   ]
  },
  {
   "cell_type": "markdown",
   "metadata": {},
   "source": [
    "## 필요없는 컬럼 삭제"
   ]
  },
  {
   "cell_type": "code",
   "execution_count": 76,
   "metadata": {},
   "outputs": [],
   "source": [
    "import pandas as pd\n",
    "\n",
    "# 원본 데이터 파일 불러오기\n",
    "file_path = 'merged_file.csv'\n",
    "product_df = pd.read_csv(file_path)\n",
    "\n",
    "# 필요한 데이터프레임 조작 수행\n",
    "product_df.drop(['cleaned_c'], axis=1, inplace=True)\n",
    "\n",
    "# 수정된 데이터프레임을 원본 파일에 다시 저장 (덮어쓰기)\n",
    "product_df.to_csv(file_path, index=False)\n"
   ]
  },
  {
   "cell_type": "code",
   "execution_count": 74,
   "metadata": {},
   "outputs": [
    {
     "name": "stdout",
     "output_type": "stream",
     "text": [
      "<class 'pandas.core.frame.DataFrame'>\n",
      "RangeIndex: 4695 entries, 0 to 4694\n",
      "Data columns (total 5 columns):\n",
      " #   Column        Non-Null Count  Dtype \n",
      "---  ------        --------------  ----- \n",
      " 0   product       4695 non-null   object\n",
      " 1   category      4695 non-null   object\n",
      " 2   info          4695 non-null   object\n",
      " 3   cleaned_info  4695 non-null   object\n",
      " 4   cleaned_c     4695 non-null   object\n",
      "dtypes: object(5)\n",
      "memory usage: 183.5+ KB\n"
     ]
    }
   ],
   "source": [
    "product_df.info()"
   ]
  },
  {
   "cell_type": "code",
   "execution_count": null,
   "metadata": {},
   "outputs": [],
   "source": [
    "# Okt 토큰화 적용\n",
    "product_df['tokenized_category'] = product_df['category'].apply(okt_tokenize)\n"
   ]
  },
  {
   "cell_type": "code",
   "execution_count": null,
   "metadata": {},
   "outputs": [],
   "source": [
    "import re\n",
    "# Function to clean and split the category column\n",
    "def clean_and_split(category):\n",
    "    # Use regular expression to remove special characters and split by spaces\n",
    "    parts = re.findall('[가-힣a-zA-Z0-9&]+', category)\n",
    "    return ', '.join(set(parts))\n",
    "\n",
    "# Apply the function to each row in the 'category' column and create 'cleaned_cat' column\n",
    "product_df['cleaned_cat'] = product_df['category'].apply(clean_and_split)"
   ]
  },
  {
   "cell_type": "code",
   "execution_count": 2,
   "metadata": {},
   "outputs": [],
   "source": [
    "import pandas as pd"
   ]
  },
  {
   "cell_type": "markdown",
   "metadata": {},
   "source": [
    "### 웅기님 데이터셋 정리 및 합치기 "
   ]
  },
  {
   "cell_type": "code",
   "execution_count": 43,
   "metadata": {},
   "outputs": [],
   "source": [
    "df = pd.read_csv('nextunicorn_data_240109_1.csv', encoding='utf-8')\n",
    "\n",
    "# 필요한 컬럼들을 하나의 컬럼으로 합치기\n",
    "df['info'] = df['한줄소개'] + \" \" + df['회사정보'] + \" \" + df['제품소개']\n",
    "\n",
    "# 카테고리와 기술을 합쳐 하나의 컬럼으로 만들기\n",
    "df['category'] = df['카테고리'] + \" \" + df['기술']\n",
    "\n",
    "df['product'] = df['회사명']\n",
    "# 결과 확인\n",
    "df[['info', 'category', 'product']].head()\n",
    "\n",
    "selected_columns = ['info', 'category', 'product']\n",
    "df[selected_columns].to_csv('file3.csv', encoding='utf-8', index=False)"
   ]
  },
  {
   "cell_type": "markdown",
   "metadata": {},
   "source": [
    "### 파일 합치기\n"
   ]
  },
  {
   "cell_type": "code",
   "execution_count": 61,
   "metadata": {},
   "outputs": [],
   "source": [
    "df1 = pd.read_csv('file.csv', encoding='utf-8')\n",
    "\n",
    "df2 = pd.read_csv('file2.csv', encoding='utf-8')\n",
    "\n",
    "df3 = pd.read_csv('file3.csv', encoding='utf-8')\n",
    "\n",
    "# 두 데이터프레임을 합칩니다.\n",
    "merged_df = pd.concat([df1, df2, df3])\n",
    "\n",
    "# 합쳐진 데이터프레임을 새로운 CSV 파일로 저장합니다.\n",
    "merged_df.to_csv('merged_file.csv', encoding='utf-8', index=False)"
   ]
  }
 ],
 "metadata": {
  "kernelspec": {
   "display_name": "base",
   "language": "python",
   "name": "python3"
  },
  "language_info": {
   "codemirror_mode": {
    "name": "ipython",
    "version": 3
   },
   "file_extension": ".py",
   "mimetype": "text/x-python",
   "name": "python",
   "nbconvert_exporter": "python",
   "pygments_lexer": "ipython3",
   "version": "3.8.18"
  }
 },
 "nbformat": 4,
 "nbformat_minor": 2
}
